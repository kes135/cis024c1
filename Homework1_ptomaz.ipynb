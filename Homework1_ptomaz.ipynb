{
 "cells": [
  {
   "cell_type": "code",
   "execution_count": 1,
   "metadata": {},
   "outputs": [
    {
     "name": "stdout",
     "output_type": "stream",
     "text": [
      "5 10\n"
     ]
    }
   ],
   "source": [
    "x=5\n",
    "y=10\n",
    "print x,y"
   ]
  },
  {
   "cell_type": "code",
   "execution_count": 2,
   "metadata": {},
   "outputs": [
    {
     "name": "stdout",
     "output_type": "stream",
     "text": [
      "30\n"
     ]
    }
   ],
   "source": [
    "x=10\n",
    "y=20\n",
    "z=x+y\n",
    "print z"
   ]
  },
  {
   "cell_type": "code",
   "execution_count": 3,
   "metadata": {},
   "outputs": [
    {
     "name": "stdout",
     "output_type": "stream",
     "text": [
      "5 6\n"
     ]
    }
   ],
   "source": [
    "a=5\n",
    "b=6\n",
    "print a,b"
   ]
  },
  {
   "cell_type": "code",
   "execution_count": 14,
   "metadata": {},
   "outputs": [
    {
     "name": "stdout",
     "output_type": "stream",
     "text": [
      "Hello Oscar\n"
     ]
    }
   ],
   "source": [
    "greeting=\"Hello\"\n",
    "person=\"Oscar\"\n",
    "print greeting, person"
   ]
  },
  {
   "cell_type": "code",
   "execution_count": 20,
   "metadata": {},
   "outputs": [
    {
     "name": "stdout",
     "output_type": "stream",
     "text": [
      "Hello, Oscar\n"
     ]
    }
   ],
   "source": [
    "greeting=\"Hello, \"\n",
    "personalGreeting=greeting+person\n",
    "print personalGreeting"
   ]
  },
  {
   "cell_type": "code",
   "execution_count": 26,
   "metadata": {},
   "outputs": [
    {
     "name": "stdout",
     "output_type": "stream",
     "text": [
      "Enter your age: 45\n"
     ]
    }
   ],
   "source": [
    "age = input('Enter your age: ')"
   ]
  },
  {
   "cell_type": "code",
   "execution_count": 37,
   "metadata": {},
   "outputs": [
    {
     "name": "stdout",
     "output_type": "stream",
     "text": [
      "Age is not equal to 35.\n"
     ]
    }
   ],
   "source": [
    "if age==35:\n",
    "    print \"Age is equal to 35.\"\n",
    "else:\n",
    "    print \"Age is not equal to 35.\""
   ]
  },
  {
   "cell_type": "code",
   "execution_count": 39,
   "metadata": {},
   "outputs": [
    {
     "name": "stdout",
     "output_type": "stream",
     "text": [
      "The age is greater than 35.\n"
     ]
    }
   ],
   "source": [
    "if age<35:\n",
    "    print \"The age is not greater than 35.\"\n",
    "if age>35:\n",
    "    print \"The age is greater than 35.\"\n",
    "if age==35:\n",
    "    print \"The age is equal to 35.\""
   ]
  },
  {
   "cell_type": "code",
   "execution_count": 67,
   "metadata": {},
   "outputs": [
    {
     "name": "stdout",
     "output_type": "stream",
     "text": [
      "<type 'int'>\n",
      "10\n",
      "2\n",
      "2\n",
      "2\n"
     ]
    }
   ],
   "source": [
    "number = int(10)\n",
    "print type(number)\n",
    "print number\n",
    "numberDiv4 = number/4\n",
    "print numberDiv4\n",
    "numberDiv4Int=number//4\n",
    "print numberDiv4Int\n",
    "numberMod=number%4\n",
    "print numberMod"
   ]
  },
  {
   "cell_type": "code",
   "execution_count": 76,
   "metadata": {},
   "outputs": [
    {
     "name": "stdout",
     "output_type": "stream",
     "text": [
      "<type 'float'>\n",
      "25.3375 (floating division)\n",
      "25.0 (integer division)\n",
      "1.35 (remainder)\n"
     ]
    }
   ],
   "source": [
    "floatNumber=101.35\n",
    "print type(floatNumber)\n",
    "floatNumDiv4=floatNumber/4\n",
    "print floatNumDiv4, \"(floating division)\"\n",
    "floatNumDiv4Int=floatNumber//4\n",
    "print floatNumDiv4Int, \"(integer division)\"\n",
    "floatNumMod=floatNumber%4\n",
    "print floatNumMod, \"(remainder)\""
   ]
  },
  {
   "cell_type": "code",
   "execution_count": 79,
   "metadata": {},
   "outputs": [
    {
     "name": "stdout",
     "output_type": "stream",
     "text": [
      "False\n",
      "False\n"
     ]
    }
   ],
   "source": [
    "myAge=21\n",
    "yourAge=25\n",
    "result=myAge==yourAge\n",
    "print result\n",
    "hisAge=25\n",
    "result=myAge==hisAge\n",
    "print result"
   ]
  }
 ],
 "metadata": {
  "kernelspec": {
   "display_name": "Python 2",
   "language": "python",
   "name": "python2"
  },
  "language_info": {
   "codemirror_mode": {
    "name": "ipython",
    "version": 2
   },
   "file_extension": ".py",
   "mimetype": "text/x-python",
   "name": "python",
   "nbconvert_exporter": "python",
   "pygments_lexer": "ipython2",
   "version": "2.7.13"
  }
 },
 "nbformat": 4,
 "nbformat_minor": 2
}
